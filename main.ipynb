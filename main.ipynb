{
 "cells": [
  {
   "cell_type": "code",
   "execution_count": 70,
   "metadata": {},
   "outputs": [
    {
     "data": {
      "application/vnd.jupyter.widget-view+json": {
       "model_id": "5cd28962ba4644adb8908a5d4a034fdf",
       "version_major": 2,
       "version_minor": 0
      },
      "text/plain": [
       "interactive(children=(Dropdown(description='bank_id', options=(1, 2), value=1), Dropdown(description='year', o…"
      ]
     },
     "metadata": {},
     "output_type": "display_data"
    }
   ],
   "source": [
    "from ipywidgets import interact\n",
    "import pandas as pd\n",
    "import sqlite3\n",
    "\n",
    "\n",
    "conn = sqlite3.connect(\"IBL.db\")\n",
    "\n",
    "banks_id = [i[0] for i in conn.execute(\"SELECT id FROM banks;\")]\n",
    "years = [i[0] for i in conn.execute(\"SELECT DISTINCT(strftime('%Y', start_date)) FROM IBL ORDER BY start_date;\")]\n",
    "\n",
    "if (len(conn.execute(\"SELECT name FROM sqlite_master WHERE type='index' AND name LIKE 'idx%';\").fetchall()) == 0):\n",
    "    conn.execute(\"CREATE INDEX idx_IBL_bank_id ON IBL(bank_id)\")\n",
    "    conn.execute(\"CREATE INDEX idx_fact_IBL_id ON fact(IBL_id)\")\n",
    "\n",
    "@interact\n",
    "def get_graph_IBL(bank_id = banks_id, year = years):\n",
    "    acronym = conn.execute(\"SELECT acronym FROM banks WHERE id=?\", (bank_id,)).fetchone()[0]\n",
    "\n",
    "    plan = pd.DataFrame(\n",
    "        conn.execute(\"\"\"\n",
    "                SELECT \n",
    "                    strftime('%m', plan_date) AS month, pl.amount AS plan, SUM(fc.amount) AS fact\n",
    "                FROM  \n",
    "                    plan_ as pl\n",
    "                    LEFT JOIN fact as fc ON strftime('%m', fc.expences_date) = strftime('%m', pl.plan_date) \n",
    "                    LEFT JOIN IBL ON IBL.id = fc.IBL_id\n",
    "                WHERE \n",
    "                    pl.bank_id = ? AND strftime('%Y', pl.plan_date) = ? AND IBL.bank_id = ?\n",
    "                GROUP BY month;\n",
    "                \"\"\", \n",
    "            (bank_id, year, bank_id)\n",
    "            ), \n",
    "            columns=['month', 'plan', 'fact'],\n",
    "    )\n",
    "    if (len(plan) == 0):\n",
    "        print(\"В этом году банк не пользовался кредитом\")\n",
    "    else:\n",
    "        plan.plot(title=acronym, linewidth=3)\n"
   ]
  }
 ],
 "metadata": {
  "kernelspec": {
   "display_name": "Python 3",
   "language": "python",
   "name": "python3"
  },
  "language_info": {
   "codemirror_mode": {
    "name": "ipython",
    "version": 3
   },
   "file_extension": ".py",
   "mimetype": "text/x-python",
   "name": "python",
   "nbconvert_exporter": "python",
   "pygments_lexer": "ipython3",
   "version": "3.10.6"
  },
  "orig_nbformat": 4,
  "vscode": {
   "interpreter": {
    "hash": "916dbcbb3f70747c44a77c7bcd40155683ae19c65e1c03b4aa3499c5328201f1"
   }
  }
 },
 "nbformat": 4,
 "nbformat_minor": 2
}
